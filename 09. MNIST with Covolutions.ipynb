{
 "cells": [
  {
   "cell_type": "code",
   "execution_count": 1,
   "metadata": {},
   "outputs": [
    {
     "name": "stdout",
     "output_type": "stream",
     "text": [
      "\u001b[32m\u001b[1m  Updating\u001b[22m\u001b[39m registry at `~/.julia/registries/General`\n",
      "\u001b[32m\u001b[1m  Updating\u001b[22m\u001b[39m git-repo `https://github.com/JuliaRegistries/General.git`\n",
      "\u001b[?25l\u001b[2K\u001b[?25h"
     ]
    }
   ],
   "source": [
    "]activate .; instantiate"
   ]
  },
  {
   "cell_type": "code",
   "execution_count": 2,
   "metadata": {},
   "outputs": [],
   "source": [
    "using Flux, Flux.Data.MNIST, Images\n",
    "using Flux: onehotbatch, onecold, crossentropy, throttle\n",
    "using Base.Iterators: repeated, partition\n",
    "using Statistics\n",
    "#using CuArrays"
   ]
  },
  {
   "cell_type": "code",
   "execution_count": 3,
   "metadata": {
    "scrolled": true
   },
   "outputs": [
    {
     "data": {
      "text/html": [
       "<table><tbody><tr><td style='text-align:center;vertical-align:middle; margin: 0.5em;border:1px #90999f solid;border-collapse:collapse'><img style='max-width: 100px; max-height:100px;display:inline' src=\"data:image/png;base64,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\"></td><td style='text-align:center;vertical-align:middle; margin: 0.5em;border:1px #90999f solid;border-collapse:collapse'><img style='max-width: 100px; max-height:100px;display:inline' src=\"data:image/png;base64,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\"></td><td style='text-align:center;vertical-align:middle; margin: 0.5em;border:1px #90999f solid;border-collapse:collapse'><img style='max-width: 100px; max-height:100px;display:inline' src=\"data:image/png;base64,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\"></td><td style='text-align:center;vertical-align:middle; margin: 0.5em;border:1px #90999f solid;border-collapse:collapse'><img style='max-width: 100px; max-height:100px;display:inline' src=\"data:image/png;base64,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\"></td><td style='text-align:center;vertical-align:middle; margin: 0.5em;border:1px #90999f solid;border-collapse:collapse'><img style='max-width: 100px; max-height:100px;display:inline' src=\"data:image/png;base64,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\"></td><td style='text-align:center;vertical-align:middle; margin: 0.5em;border:1px #90999f solid;border-collapse:collapse'><img style='max-width: 100px; max-height:100px;display:inline' src=\"data:image/png;base64,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\"></td><td style='text-align:center;vertical-align:middle; margin: 0.5em;border:1px #90999f solid;border-collapse:collapse'><img style='max-width: 100px; max-height:100px;display:inline' src=\"data:image/png;base64,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\"></td><td style='text-align:center;vertical-align:middle; margin: 0.5em;border:1px #90999f solid;border-collapse:collapse'><img style='max-width: 100px; max-height:100px;display:inline' src=\"data:image/png;base64,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\"></td><td style='text-align:center;vertical-align:middle; margin: 0.5em;border:1px #90999f solid;border-collapse:collapse'><img style='max-width: 100px; max-height:100px;display:inline' src=\"data:image/png;base64,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\"></td><td style='text-align:center;vertical-align:middle; margin: 0.5em;border:1px #90999f solid;border-collapse:collapse'><img style='max-width: 100px; max-height:100px;display:inline' src=\"data:image/png;base64,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\"></td></tr></tbody></table><div><small>(a vector displayed as a row to save space)</small></div>"
      ],
      "text/plain": [
       "10-element Array{Array{Gray{Normed{UInt8,8}},2},1}:\n",
       " [Gray{N0f8}(0.0) Gray{N0f8}(0.0) … Gray{N0f8}(0.0) Gray{N0f8}(0.0); Gray{N0f8}(0.0) Gray{N0f8}(0.0) … Gray{N0f8}(0.0) Gray{N0f8}(0.0); … ; Gray{N0f8}(0.0) Gray{N0f8}(0.0) … Gray{N0f8}(0.0) Gray{N0f8}(0.0); Gray{N0f8}(0.0) Gray{N0f8}(0.0) … Gray{N0f8}(0.0) Gray{N0f8}(0.0)]\n",
       " [Gray{N0f8}(0.0) Gray{N0f8}(0.0) … Gray{N0f8}(0.0) Gray{N0f8}(0.0); Gray{N0f8}(0.0) Gray{N0f8}(0.0) … Gray{N0f8}(0.0) Gray{N0f8}(0.0); … ; Gray{N0f8}(0.0) Gray{N0f8}(0.0) … Gray{N0f8}(0.0) Gray{N0f8}(0.0); Gray{N0f8}(0.0) Gray{N0f8}(0.0) … Gray{N0f8}(0.0) Gray{N0f8}(0.0)]\n",
       " [Gray{N0f8}(0.0) Gray{N0f8}(0.0) … Gray{N0f8}(0.0) Gray{N0f8}(0.0); Gray{N0f8}(0.0) Gray{N0f8}(0.0) … Gray{N0f8}(0.0) Gray{N0f8}(0.0); … ; Gray{N0f8}(0.0) Gray{N0f8}(0.0) … Gray{N0f8}(0.0) Gray{N0f8}(0.0); Gray{N0f8}(0.0) Gray{N0f8}(0.0) … Gray{N0f8}(0.0) Gray{N0f8}(0.0)]\n",
       " [Gray{N0f8}(0.0) Gray{N0f8}(0.0) … Gray{N0f8}(0.0) Gray{N0f8}(0.0); Gray{N0f8}(0.0) Gray{N0f8}(0.0) … Gray{N0f8}(0.0) Gray{N0f8}(0.0); … ; Gray{N0f8}(0.0) Gray{N0f8}(0.0) … Gray{N0f8}(0.0) Gray{N0f8}(0.0); Gray{N0f8}(0.0) Gray{N0f8}(0.0) … Gray{N0f8}(0.0) Gray{N0f8}(0.0)]\n",
       " [Gray{N0f8}(0.0) Gray{N0f8}(0.0) … Gray{N0f8}(0.0) Gray{N0f8}(0.0); Gray{N0f8}(0.0) Gray{N0f8}(0.0) … Gray{N0f8}(0.0) Gray{N0f8}(0.0); … ; Gray{N0f8}(0.0) Gray{N0f8}(0.0) … Gray{N0f8}(0.0) Gray{N0f8}(0.0); Gray{N0f8}(0.0) Gray{N0f8}(0.0) … Gray{N0f8}(0.0) Gray{N0f8}(0.0)]\n",
       " [Gray{N0f8}(0.0) Gray{N0f8}(0.0) … Gray{N0f8}(0.0) Gray{N0f8}(0.0); Gray{N0f8}(0.0) Gray{N0f8}(0.0) … Gray{N0f8}(0.0) Gray{N0f8}(0.0); … ; Gray{N0f8}(0.0) Gray{N0f8}(0.0) … Gray{N0f8}(0.0) Gray{N0f8}(0.0); Gray{N0f8}(0.0) Gray{N0f8}(0.0) … Gray{N0f8}(0.0) Gray{N0f8}(0.0)]\n",
       " [Gray{N0f8}(0.0) Gray{N0f8}(0.0) … Gray{N0f8}(0.0) Gray{N0f8}(0.0); Gray{N0f8}(0.0) Gray{N0f8}(0.0) … Gray{N0f8}(0.0) Gray{N0f8}(0.0); … ; Gray{N0f8}(0.0) Gray{N0f8}(0.0) … Gray{N0f8}(0.0) Gray{N0f8}(0.0); Gray{N0f8}(0.0) Gray{N0f8}(0.0) … Gray{N0f8}(0.0) Gray{N0f8}(0.0)]\n",
       " [Gray{N0f8}(0.0) Gray{N0f8}(0.0) … Gray{N0f8}(0.0) Gray{N0f8}(0.0); Gray{N0f8}(0.0) Gray{N0f8}(0.0) … Gray{N0f8}(0.0) Gray{N0f8}(0.0); … ; Gray{N0f8}(0.0) Gray{N0f8}(0.0) … Gray{N0f8}(0.0) Gray{N0f8}(0.0); Gray{N0f8}(0.0) Gray{N0f8}(0.0) … Gray{N0f8}(0.0) Gray{N0f8}(0.0)]\n",
       " [Gray{N0f8}(0.0) Gray{N0f8}(0.0) … Gray{N0f8}(0.0) Gray{N0f8}(0.0); Gray{N0f8}(0.0) Gray{N0f8}(0.0) … Gray{N0f8}(0.0) Gray{N0f8}(0.0); … ; Gray{N0f8}(0.0) Gray{N0f8}(0.0) … Gray{N0f8}(0.0) Gray{N0f8}(0.0); Gray{N0f8}(0.0) Gray{N0f8}(0.0) … Gray{N0f8}(0.0) Gray{N0f8}(0.0)]\n",
       " [Gray{N0f8}(0.0) Gray{N0f8}(0.0) … Gray{N0f8}(0.0) Gray{N0f8}(0.0); Gray{N0f8}(0.0) Gray{N0f8}(0.0) … Gray{N0f8}(0.0) Gray{N0f8}(0.0); … ; Gray{N0f8}(0.0) Gray{N0f8}(0.0) … Gray{N0f8}(0.0) Gray{N0f8}(0.0); Gray{N0f8}(0.0) Gray{N0f8}(0.0) … Gray{N0f8}(0.0) Gray{N0f8}(0.0)]"
      ]
     },
     "execution_count": 3,
     "metadata": {},
     "output_type": "execute_result"
    }
   ],
   "source": [
    "imgs = MNIST.images()\n",
    "\n",
    "labels = gpu(collect(onehotbatch(MNIST.labels(), 0:9)))\n",
    "\n",
    "imgs[1:10]"
   ]
  },
  {
   "cell_type": "code",
   "execution_count": 4,
   "metadata": {},
   "outputs": [],
   "source": [
    "# Partition into batches of size 1,000\n",
    "train = [(gpu(cat(float.(imgs[i])..., dims = 4)), labels[:,i])\n",
    "         for i in partition(1:60_000, 1000)]\n",
    "\n",
    "# Prepare test set (first 1,000 images)\n",
    "tX = gpu(cat(float.(MNIST.images(:test)[1:1000])..., dims = 4))\n",
    "tY = gpu(onehotbatch(MNIST.labels(:test)[1:1000], 0:9));"
   ]
  },
  {
   "cell_type": "markdown",
   "metadata": {},
   "source": [
    "![CNN](http://cs231n.github.io/assets/cnn/depthcol.jpeg)"
   ]
  },
  {
   "cell_type": "code",
   "execution_count": 5,
   "metadata": {},
   "outputs": [
    {
     "data": {
      "text/plain": [
       "loss (generic function with 1 method)"
      ]
     },
     "execution_count": 5,
     "metadata": {},
     "output_type": "execute_result"
    }
   ],
   "source": [
    "m = Chain(\n",
    "  Conv((2,2), 1=>16, relu),\n",
    "  x -> maxpool(x, (2,2)),\n",
    "  Conv((2,2), 16=>8, relu),\n",
    "  x -> maxpool(x, (2,2)),\n",
    "  x -> reshape(x, :, size(x, 4)),\n",
    "  Dense(288, 10), softmax)\n",
    "\n",
    "m = gpu(m)\n",
    "\n",
    "loss(x, y) = crossentropy(m(x), y)"
   ]
  },
  {
   "cell_type": "code",
   "execution_count": 6,
   "metadata": {},
   "outputs": [
    {
     "data": {
      "image/png": "[encoded data removed]",
      "text/plain": [
       "10×100 Array{Gray{Bool},2} with eltype Gray{Bool}:\n",
       " Gray{Bool}(false)  Gray{Bool}(true)   …  Gray{Bool}(false)\n",
       " Gray{Bool}(false)  Gray{Bool}(false)     Gray{Bool}(true) \n",
       " Gray{Bool}(false)  Gray{Bool}(false)     Gray{Bool}(false)\n",
       " Gray{Bool}(false)  Gray{Bool}(false)     Gray{Bool}(false)\n",
       " Gray{Bool}(false)  Gray{Bool}(false)     Gray{Bool}(false)\n",
       " Gray{Bool}(true)   Gray{Bool}(false)  …  Gray{Bool}(false)\n",
       " Gray{Bool}(false)  Gray{Bool}(false)     Gray{Bool}(false)\n",
       " Gray{Bool}(false)  Gray{Bool}(false)     Gray{Bool}(false)\n",
       " Gray{Bool}(false)  Gray{Bool}(false)     Gray{Bool}(false)\n",
       " Gray{Bool}(false)  Gray{Bool}(false)     Gray{Bool}(false)"
      ]
     },
     "execution_count": 6,
     "metadata": {},
     "output_type": "execute_result"
    }
   ],
   "source": [
    "Gray.(collect(labels[:,1:100]))"
   ]
  },
  {
   "cell_type": "code",
   "execution_count": 7,
   "metadata": {},
   "outputs": [
    {
     "data": {
      "image/png": "[encoded data removed]",
      "text/plain": [
       "10×100 Array{Gray{Float64},2} with eltype Gray{Float64}:\n",
       " Gray{Float64}(0.0999472)  …  Gray{Float64}(0.0999258)\n",
       " Gray{Float64}(0.10005)       Gray{Float64}(0.100024) \n",
       " Gray{Float64}(0.100118)      Gray{Float64}(0.100057) \n",
       " Gray{Float64}(0.100077)      Gray{Float64}(0.100052) \n",
       " Gray{Float64}(0.100024)      Gray{Float64}(0.100021) \n",
       " Gray{Float64}(0.100032)   …  Gray{Float64}(0.100039) \n",
       " Gray{Float64}(0.0999445)     Gray{Float64}(0.0999905)\n",
       " Gray{Float64}(0.0999135)     Gray{Float64}(0.0999408)\n",
       " Gray{Float64}(0.099952)      Gray{Float64}(0.100006) \n",
       " Gray{Float64}(0.0999414)     Gray{Float64}(0.0999439)"
      ]
     },
     "execution_count": 7,
     "metadata": {},
     "output_type": "execute_result"
    }
   ],
   "source": [
    "Gray.(collect(m(train[1][1]).data)[:,1:100])"
   ]
  },
  {
   "cell_type": "code",
   "execution_count": 8,
   "metadata": {},
   "outputs": [
    {
     "data": {
      "text/plain": [
       "(::getfield(Flux, Symbol(\"#throttled#18\")){getfield(Flux, Symbol(\"##throttled#10#14\")){Bool,Bool,getfield(Main, Symbol(\"##11#12\")),Int64}}) (generic function with 1 method)"
      ]
     },
     "execution_count": 8,
     "metadata": {},
     "output_type": "execute_result"
    }
   ],
   "source": [
    "evalcb = throttle(5) do\n",
    "    display(Gray.(collect(m(train[1][1]).data)[:,1:100]))\n",
    "end"
   ]
  },
  {
   "cell_type": "code",
   "execution_count": 9,
   "metadata": {},
   "outputs": [
    {
     "data": {
      "image/png": "[encoded data removed]",
      "text/plain": [
       "10×100 Array{Gray{Float64},2} with eltype Gray{Float64}:\n",
       " Gray{Float64}(0.0999008)  …  Gray{Float64}(0.0998687)\n",
       " Gray{Float64}(0.100267)      Gray{Float64}(0.100293) \n",
       " Gray{Float64}(0.10011)       Gray{Float64}(0.100067) \n",
       " Gray{Float64}(0.0998323)     Gray{Float64}(0.0997616)\n",
       " Gray{Float64}(0.100147)      Gray{Float64}(0.100114) \n",
       " Gray{Float64}(0.0998855)  …  Gray{Float64}(0.0998967)\n",
       " Gray{Float64}(0.100006)      Gray{Float64}(0.100011) \n",
       " Gray{Float64}(0.100085)      Gray{Float64}(0.100129) \n",
       " Gray{Float64}(0.0997279)     Gray{Float64}(0.099783) \n",
       " Gray{Float64}(0.100038)      Gray{Float64}(0.100077) "
      ]
     },
     "metadata": {},
     "output_type": "display_data"
    },
    {
     "data": {
      "image/png": "[encoded data removed]",
      "text/plain": [
       "10×100 Array{Gray{Float64},2} with eltype Gray{Float64}:\n",
       " Gray{Float64}(0.0990812)  …  Gray{Float64}(0.0989163)\n",
       " Gray{Float64}(0.102123)      Gray{Float64}(0.102514) \n",
       " Gray{Float64}(0.100784)      Gray{Float64}(0.1004)   \n",
       " Gray{Float64}(0.0997528)     Gray{Float64}(0.0991759)\n",
       " Gray{Float64}(0.100722)      Gray{Float64}(0.100451) \n",
       " Gray{Float64}(0.0986534)  …  Gray{Float64}(0.0988034)\n",
       " Gray{Float64}(0.100422)      Gray{Float64}(0.100594) \n",
       " Gray{Float64}(0.10057)       Gray{Float64}(0.100557) \n",
       " Gray{Float64}(0.0981124)     Gray{Float64}(0.0985294)\n",
       " Gray{Float64}(0.0997804)     Gray{Float64}(0.100058) "
      ]
     },
     "metadata": {},
     "output_type": "display_data"
    },
    {
     "data": {
      "image/png": "[encoded data removed]",
      "text/plain": [
       "10×100 Array{Gray{Float64},2} with eltype Gray{Float64}:\n",
       " Gray{Float64}(0.0983953)  …  Gray{Float64}(0.0975588)\n",
       " Gray{Float64}(0.104997)      Gray{Float64}(0.106634) \n",
       " Gray{Float64}(0.101918)      Gray{Float64}(0.100623) \n",
       " Gray{Float64}(0.102139)      Gray{Float64}(0.100325) \n",
       " Gray{Float64}(0.100143)      Gray{Float64}(0.0993252)\n",
       " Gray{Float64}(0.0964754)  …  Gray{Float64}(0.0967774)\n",
       " Gray{Float64}(0.0999745)     Gray{Float64}(0.10065)  \n",
       " Gray{Float64}(0.100752)      Gray{Float64}(0.100755) \n",
       " Gray{Float64}(0.0964855)     Gray{Float64}(0.0977446)\n",
       " Gray{Float64}(0.0987202)     Gray{Float64}(0.0996077)"
      ]
     },
     "metadata": {},
     "output_type": "display_data"
    },
    {
     "data": {
      "image/png": "[encoded data removed]",
      "text/plain": [
       "10×100 Array{Gray{Float64},2} with eltype Gray{Float64}:\n",
       " Gray{Float64}(0.0975961)  …  Gray{Float64}(0.0951631)\n",
       " Gray{Float64}(0.110067)      Gray{Float64}(0.114263) \n",
       " Gray{Float64}(0.102627)      Gray{Float64}(0.0996051)\n",
       " Gray{Float64}(0.106491)      Gray{Float64}(0.102813) \n",
       " Gray{Float64}(0.0982863)     Gray{Float64}(0.0970073)\n",
       " Gray{Float64}(0.0935471)  …  Gray{Float64}(0.0934935)\n",
       " Gray{Float64}(0.0983106)     Gray{Float64}(0.0997029)\n",
       " Gray{Float64}(0.100531)      Gray{Float64}(0.100543) \n",
       " Gray{Float64}(0.0950687)     Gray{Float64}(0.0977641)\n",
       " Gray{Float64}(0.0974755)     Gray{Float64}(0.099645) "
      ]
     },
     "metadata": {},
     "output_type": "display_data"
    },
    {
     "data": {
      "image/png": "[encoded data removed]",
      "text/plain": [
       "10×100 Array{Gray{Float64},2} with eltype Gray{Float64}:\n",
       " Gray{Float64}(0.0972016)  …  Gray{Float64}(0.0913464)\n",
       " Gray{Float64}(0.117019)      Gray{Float64}(0.126383) \n",
       " Gray{Float64}(0.106427)      Gray{Float64}(0.100426) \n",
       " Gray{Float64}(0.111187)      Gray{Float64}(0.1045)   \n",
       " Gray{Float64}(0.0958725)     Gray{Float64}(0.0941035)\n",
       " Gray{Float64}(0.0912948)  …  Gray{Float64}(0.0901415)\n",
       " Gray{Float64}(0.0970801)     Gray{Float64}(0.099203) \n",
       " Gray{Float64}(0.0994314)     Gray{Float64}(0.0996161)\n",
       " Gray{Float64}(0.0918479)     Gray{Float64}(0.0966413)\n",
       " Gray{Float64}(0.0926377)     Gray{Float64}(0.0976384)"
      ]
     },
     "metadata": {},
     "output_type": "display_data"
    },
    {
     "data": {
      "image/png": "[encoded data removed]",
      "text/plain": [
       "10×100 Array{Gray{Float64},2} with eltype Gray{Float64}:\n",
       " Gray{Float64}(0.0987989)  …  Gray{Float64}(0.0864208)\n",
       " Gray{Float64}(0.121774)      Gray{Float64}(0.141827) \n",
       " Gray{Float64}(0.110276)      Gray{Float64}(0.100162) \n",
       " Gray{Float64}(0.115319)      Gray{Float64}(0.103321) \n",
       " Gray{Float64}(0.0914882)     Gray{Float64}(0.0897082)\n",
       " Gray{Float64}(0.0899264)  …  Gray{Float64}(0.0865247)\n",
       " Gray{Float64}(0.0953287)     Gray{Float64}(0.0986571)\n",
       " Gray{Float64}(0.0986858)     Gray{Float64}(0.0994145)\n",
       " Gray{Float64}(0.0907269)     Gray{Float64}(0.0980557)\n",
       " Gray{Float64}(0.0876762)     Gray{Float64}(0.0959094)"
      ]
     },
     "metadata": {},
     "output_type": "display_data"
    },
    {
     "data": {
      "image/png": "[encoded data removed]",
      "text/plain": [
       "10×100 Array{Gray{Float64},2} with eltype Gray{Float64}:\n",
       " Gray{Float64}(0.104994)   …  Gray{Float64}(0.0810403)\n",
       " Gray{Float64}(0.120305)      Gray{Float64}(0.159311) \n",
       " Gray{Float64}(0.113595)      Gray{Float64}(0.0982834)\n",
       " Gray{Float64}(0.119031)      Gray{Float64}(0.099498) \n",
       " Gray{Float64}(0.0867404)     Gray{Float64}(0.0850066)\n",
       " Gray{Float64}(0.090674)   …  Gray{Float64}(0.0832304)\n",
       " Gray{Float64}(0.09479)       Gray{Float64}(0.0989912)\n",
       " Gray{Float64}(0.0980193)     Gray{Float64}(0.0996676)\n",
       " Gray{Float64}(0.0906446)     Gray{Float64}(0.101004) \n",
       " Gray{Float64}(0.0812067)     Gray{Float64}(0.0939682)"
      ]
     },
     "metadata": {},
     "output_type": "display_data"
    },
    {
     "data": {
      "image/png": "[encoded data removed]",
      "text/plain": [
       "10×100 Array{Gray{Float64},2} with eltype Gray{Float64}:\n",
       " Gray{Float64}(0.117643)   …  Gray{Float64}(0.0737962)\n",
       " Gray{Float64}(0.11084)       Gray{Float64}(0.18151)  \n",
       " Gray{Float64}(0.116947)      Gray{Float64}(0.0959064)\n",
       " Gray{Float64}(0.122352)      Gray{Float64}(0.09394)  \n",
       " Gray{Float64}(0.0777523)     Gray{Float64}(0.0765446)\n",
       " Gray{Float64}(0.0988917)  …  Gray{Float64}(0.0820824)\n",
       " Gray{Float64}(0.0930388)     Gray{Float64}(0.0968576)\n",
       " Gray{Float64}(0.0992628)     Gray{Float64}(0.102535) \n",
       " Gray{Float64}(0.0923736)     Gray{Float64}(0.106131) \n",
       " Gray{Float64}(0.0708995)     Gray{Float64}(0.0906963)"
      ]
     },
     "metadata": {},
     "output_type": "display_data"
    },
    {
     "data": {
      "image/png": "[encoded data removed]",
      "text/plain": [
       "10×100 Array{Gray{Float64},2} with eltype Gray{Float64}:\n",
       " Gray{Float64}(0.132158)   …  Gray{Float64}(0.0641172)\n",
       " Gray{Float64}(0.0983487)     Gray{Float64}(0.210944) \n",
       " Gray{Float64}(0.114121)      Gray{Float64}(0.0902207)\n",
       " Gray{Float64}(0.127599)      Gray{Float64}(0.0893138)\n",
       " Gray{Float64}(0.0694679)     Gray{Float64}(0.068568) \n",
       " Gray{Float64}(0.115544)   …  Gray{Float64}(0.0823747)\n",
       " Gray{Float64}(0.0909076)     Gray{Float64}(0.0934866)\n",
       " Gray{Float64}(0.0986065)     Gray{Float64}(0.104207) \n",
       " Gray{Float64}(0.0938339)     Gray{Float64}(0.111176) \n",
       " Gray{Float64}(0.0594144)     Gray{Float64}(0.0855924)"
      ]
     },
     "metadata": {},
     "output_type": "display_data"
    }
   ],
   "source": [
    "Flux.train!(loss, train, ADAM(params(m)), cb = evalcb)"
   ]
  },
  {
   "cell_type": "code",
   "execution_count": 10,
   "metadata": {},
   "outputs": [
    {
     "data": {
      "image/png": "[encoded data removed]",
      "text/plain": [
       "10×100 Array{Gray{Float64},2} with eltype Gray{Float64}:\n",
       " Gray{Float64}(0.140764)   …  Gray{Float64}(0.0503415)\n",
       " Gray{Float64}(0.0901)        Gray{Float64}(0.262214) \n",
       " Gray{Float64}(0.114821)      Gray{Float64}(0.0850943)\n",
       " Gray{Float64}(0.133465)      Gray{Float64}(0.0821486)\n",
       " Gray{Float64}(0.0634971)     Gray{Float64}(0.0614741)\n",
       " Gray{Float64}(0.131585)   …  Gray{Float64}(0.0767968)\n",
       " Gray{Float64}(0.0886009)     Gray{Float64}(0.0880953)\n",
       " Gray{Float64}(0.100204)      Gray{Float64}(0.106215) \n",
       " Gray{Float64}(0.0859816)     Gray{Float64}(0.105587) \n",
       " Gray{Float64}(0.0509815)     Gray{Float64}(0.0820329)"
      ]
     },
     "metadata": {},
     "output_type": "display_data"
    },
    {
     "data": {
      "image/png": "[encoded data removed]",
      "text/plain": [
       "10×100 Array{Gray{Float64},2} with eltype Gray{Float64}:\n",
       " Gray{Float64}(0.142071)   …  Gray{Float64}(0.0370042)\n",
       " Gray{Float64}(0.0898485)     Gray{Float64}(0.337891) \n",
       " Gray{Float64}(0.111032)      Gray{Float64}(0.0759259)\n",
       " Gray{Float64}(0.147063)      Gray{Float64}(0.0758966)\n",
       " Gray{Float64}(0.0564081)     Gray{Float64}(0.0518173)\n",
       " Gray{Float64}(0.139052)   …  Gray{Float64}(0.0650233)\n",
       " Gray{Float64}(0.0920384)     Gray{Float64}(0.0843287)\n",
       " Gray{Float64}(0.0969335)     Gray{Float64}(0.0993139)\n",
       " Gray{Float64}(0.0805102)     Gray{Float64}(0.0960578)\n",
       " Gray{Float64}(0.0450437)     Gray{Float64}(0.076741) "
      ]
     },
     "metadata": {},
     "output_type": "display_data"
    },
    {
     "data": {
      "image/png": "[encoded data removed]",
      "text/plain": [
       "10×100 Array{Gray{Float64},2} with eltype Gray{Float64}:\n",
       " Gray{Float64}(0.143956)   …  Gray{Float64}(0.0270807)\n",
       " Gray{Float64}(0.0843259)     Gray{Float64}(0.413118) \n",
       " Gray{Float64}(0.109146)      Gray{Float64}(0.0686652)\n",
       " Gray{Float64}(0.166712)      Gray{Float64}(0.0709576)\n",
       " Gray{Float64}(0.0440402)     Gray{Float64}(0.0393435)\n",
       " Gray{Float64}(0.156612)   …  Gray{Float64}(0.0580761)\n",
       " Gray{Float64}(0.0867577)     Gray{Float64}(0.0736688)\n",
       " Gray{Float64}(0.0882585)     Gray{Float64}(0.0876241)\n",
       " Gray{Float64}(0.0811645)     Gray{Float64}(0.092149) \n",
       " Gray{Float64}(0.0390272)     Gray{Float64}(0.0693174)"
      ]
     },
     "metadata": {},
     "output_type": "display_data"
    },
    {
     "data": {
      "image/png": "[encoded data removed]",
      "text/plain": [
       "10×100 Array{Gray{Float64},2} with eltype Gray{Float64}:\n",
       " Gray{Float64}(0.136897)   …  Gray{Float64}(0.0180176)\n",
       " Gray{Float64}(0.0782097)     Gray{Float64}(0.501424) \n",
       " Gray{Float64}(0.104488)      Gray{Float64}(0.0591874)\n",
       " Gray{Float64}(0.182085)      Gray{Float64}(0.0613002)\n",
       " Gray{Float64}(0.0345136)     Gray{Float64}(0.0292135)\n",
       " Gray{Float64}(0.194139)   …  Gray{Float64}(0.0524458)\n",
       " Gray{Float64}(0.0754022)     Gray{Float64}(0.0580329)\n",
       " Gray{Float64}(0.075025)      Gray{Float64}(0.0713085)\n",
       " Gray{Float64}(0.086362)      Gray{Float64}(0.0889917)\n",
       " Gray{Float64}(0.0328787)     Gray{Float64}(0.0600787)"
      ]
     },
     "metadata": {},
     "output_type": "display_data"
    },
    {
     "data": {
      "image/png": "[encoded data removed]",
      "text/plain": [
       "10×100 Array{Gray{Float64},2} with eltype Gray{Float64}:\n",
       " Gray{Float64}(0.116447)   …  Gray{Float64}(0.0100465)\n",
       " Gray{Float64}(0.0634282)     Gray{Float64}(0.598562) \n",
       " Gray{Float64}(0.105326)      Gray{Float64}(0.051969) \n",
       " Gray{Float64}(0.181984)      Gray{Float64}(0.0466913)\n",
       " Gray{Float64}(0.0287868)     Gray{Float64}(0.0222805)\n",
       " Gray{Float64}(0.266952)   …  Gray{Float64}(0.0462629)\n",
       " Gray{Float64}(0.066553)      Gray{Float64}(0.0444748)\n",
       " Gray{Float64}(0.065053)      Gray{Float64}(0.0577413)\n",
       " Gray{Float64}(0.0835347)     Gray{Float64}(0.0780851)\n",
       " Gray{Float64}(0.0219367)     Gray{Float64}(0.0438864)"
      ]
     },
     "metadata": {},
     "output_type": "display_data"
    },
    {
     "data": {
      "image/png": "[encoded data removed]",
      "text/plain": [
       "10×100 Array{Gray{Float64},2} with eltype Gray{Float64}:\n",
       " Gray{Float64}(0.109078)   …  Gray{Float64}(0.00587806)\n",
       " Gray{Float64}(0.0467013)     Gray{Float64}(0.675953)  \n",
       " Gray{Float64}(0.100419)      Gray{Float64}(0.0439315) \n",
       " Gray{Float64}(0.189625)      Gray{Float64}(0.0363613) \n",
       " Gray{Float64}(0.0209304)     Gray{Float64}(0.0154844) \n",
       " Gray{Float64}(0.309287)   …  Gray{Float64}(0.0340646) \n",
       " Gray{Float64}(0.0594098)     Gray{Float64}(0.0338831) \n",
       " Gray{Float64}(0.065486)      Gray{Float64}(0.0526601) \n",
       " Gray{Float64}(0.0834968)     Gray{Float64}(0.0681473) \n",
       " Gray{Float64}(0.0155663)     Gray{Float64}(0.0336366) "
      ]
     },
     "metadata": {},
     "output_type": "display_data"
    },
    {
     "data": {
      "image/png": "[encoded data removed]",
      "text/plain": [
       "10×100 Array{Gray{Float64},2} with eltype Gray{Float64}:\n",
       " Gray{Float64}(0.0949972)  …  Gray{Float64}(0.00340396)\n",
       " Gray{Float64}(0.0352912)     Gray{Float64}(0.740287)  \n",
       " Gray{Float64}(0.0985485)     Gray{Float64}(0.0377639) \n",
       " Gray{Float64}(0.248736)      Gray{Float64}(0.0335077) \n",
       " Gray{Float64}(0.0148978)     Gray{Float64}(0.0105463) \n",
       " Gray{Float64}(0.305577)   …  Gray{Float64}(0.0229366) \n",
       " Gray{Float64}(0.0534645)     Gray{Float64}(0.025868)  \n",
       " Gray{Float64}(0.0610716)     Gray{Float64}(0.0448594) \n",
       " Gray{Float64}(0.0750824)     Gray{Float64}(0.053172)  \n",
       " Gray{Float64}(0.0123335)     Gray{Float64}(0.0276549) "
      ]
     },
     "metadata": {},
     "output_type": "display_data"
    },
    {
     "data": {
      "image/png": "[encoded data removed]",
      "text/plain": [
       "10×100 Array{Gray{Float64},2} with eltype Gray{Float64}:\n",
       " Gray{Float64}(0.0838527)   …  Gray{Float64}(0.00207148)\n",
       " Gray{Float64}(0.0248934)      Gray{Float64}(0.793219)  \n",
       " Gray{Float64}(0.0949427)      Gray{Float64}(0.0333134) \n",
       " Gray{Float64}(0.275804)       Gray{Float64}(0.0277178) \n",
       " Gray{Float64}(0.00981261)     Gray{Float64}(0.00704987)\n",
       " Gray{Float64}(0.339874)    …  Gray{Float64}(0.0169094) \n",
       " Gray{Float64}(0.0388858)      Gray{Float64}(0.0172739) \n",
       " Gray{Float64}(0.0547286)      Gray{Float64}(0.0384034) \n",
       " Gray{Float64}(0.0686701)      Gray{Float64}(0.0426693) \n",
       " Gray{Float64}(0.00853621)     Gray{Float64}(0.021373)  "
      ]
     },
     "metadata": {},
     "output_type": "display_data"
    },
    {
     "data": {
      "image/png": "[encoded data removed]",
      "text/plain": [
       "10×100 Array{Gray{Float64},2} with eltype Gray{Float64}:\n",
       " Gray{Float64}(0.0647541)   …  Gray{Float64}(0.00130615)\n",
       " Gray{Float64}(0.0180865)      Gray{Float64}(0.829904)  \n",
       " Gray{Float64}(0.0806353)      Gray{Float64}(0.0280434) \n",
       " Gray{Float64}(0.23883)        Gray{Float64}(0.0205608) \n",
       " Gray{Float64}(0.00694752)     Gray{Float64}(0.00522821)\n",
       " Gray{Float64}(0.436152)    …  Gray{Float64}(0.0150643) \n",
       " Gray{Float64}(0.0280492)      Gray{Float64}(0.0121562) \n",
       " Gray{Float64}(0.0466452)      Gray{Float64}(0.032894)  \n",
       " Gray{Float64}(0.0750646)      Gray{Float64}(0.040401)  \n",
       " Gray{Float64}(0.00483633)     Gray{Float64}(0.0144424) "
      ]
     },
     "metadata": {},
     "output_type": "display_data"
    },
    {
     "data": {
      "image/png": "[encoded data removed]",
      "text/plain": [
       "10×100 Array{Gray{Float64},2} with eltype Gray{Float64}:\n",
       " Gray{Float64}(0.0539525)   …  Gray{Float64}(0.000978899)\n",
       " Gray{Float64}(0.0117661)      Gray{Float64}(0.85306)    \n",
       " Gray{Float64}(0.062487)       Gray{Float64}(0.0245787)  \n",
       " Gray{Float64}(0.238767)       Gray{Float64}(0.0188752)  \n",
       " Gray{Float64}(0.00513032)     Gray{Float64}(0.00447619) \n",
       " Gray{Float64}(0.506829)    …  Gray{Float64}(0.0136311)  \n",
       " Gray{Float64}(0.0204221)      Gray{Float64}(0.00952159) \n",
       " Gray{Float64}(0.0347677)      Gray{Float64}(0.0283526)  \n",
       " Gray{Float64}(0.062624)       Gray{Float64}(0.0344692)  \n",
       " Gray{Float64}(0.0032538)      Gray{Float64}(0.0120561)  "
      ]
     },
     "metadata": {},
     "output_type": "display_data"
    }
   ],
   "source": [
    "Flux.train!(loss, train, ADAM(params(m)), cb = evalcb)"
   ]
  },
  {
   "cell_type": "markdown",
   "metadata": {},
   "source": [
    "Test set accuracy."
   ]
  },
  {
   "cell_type": "code",
   "execution_count": 11,
   "metadata": {},
   "outputs": [
    {
     "data": {
      "text/plain": [
       "0.764"
      ]
     },
     "execution_count": 11,
     "metadata": {},
     "output_type": "execute_result"
    }
   ],
   "source": [
    "mean(onecold(m(tX)) .== onecold(tY))"
   ]
  },
  {
   "cell_type": "code",
   "execution_count": null,
   "metadata": {},
   "outputs": [],
   "source": []
  }
 ],
 "metadata": {
  "kernelspec": {
   "display_name": "Julia 1.0.1-pre",
   "language": "julia",
   "name": "julia-1.0"
  },
  "language_info": {
   "file_extension": ".jl",
   "mimetype": "application/julia",
   "name": "julia",
   "version": "1.0.1"
  }
 },
 "nbformat": 4,
 "nbformat_minor": 2
}
